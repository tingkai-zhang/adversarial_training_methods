{
 "cells": [
  {
   "cell_type": "code",
   "execution_count": 10,
   "metadata": {
    "collapsed": true
   },
   "outputs": [],
   "source": [
    "import numpy as np\n",
    "from os import listdir\n",
    "from os.path import isfile, join\n",
    "from nltk import word_tokenize\n",
    "from nltk import RegexpTokenizer\n",
    "tokenizer = RegexpTokenizer(r'\\w+')"
   ]
  },
  {
   "cell_type": "code",
   "execution_count": 11,
   "metadata": {
    "collapsed": true
   },
   "outputs": [],
   "source": [
    "dictionary = np.load(\"./dataset/imdb/nltk_dictionary.npy\").item()"
   ]
  },
  {
   "cell_type": "code",
   "execution_count": 12,
   "metadata": {
    "collapsed": true
   },
   "outputs": [],
   "source": [
    "pos_files = [f for f in listdir(\"./dataset/imdb/test/pos\") if ( isfile(join(\"./dataset/imdb/test/pos\", f)) and (f[0] != '.') ) ]\n",
    "neg_files = [f for f in listdir(\"./dataset/imdb/test/neg\") if ( isfile(join(\"./dataset/imdb/test/neg\", f)) and (f[0] != '.') ) ]"
   ]
  },
  {
   "cell_type": "code",
   "execution_count": 13,
   "metadata": {
    "collapsed": true
   },
   "outputs": [],
   "source": [
    "xtest = list()\n",
    "ytest = list()\n",
    "for p in pos_files:\n",
    "    pos = open(\"./dataset/imdb/test/pos/\"+p, 'r')\n",
    "    for line in pos:\n",
    "        if line:\n",
    "            line = line.replace('<br /><br />', ' ')\n",
    "            tokens = tokenizer.tokenize(line.lower())\n",
    "            tokens = [ (dictionary[t] if (t in dictionary) else dictionary['<unk>']) for t in tokens ] \n",
    "            \n",
    "            xtest.append(tokens)\n",
    "            ytest.append(1)\n",
    "                \n",
    "        else:\n",
    "            print(\"empty line: {}.\".format(line))\n",
    "    pos.close()\n",
    "    \n",
    "for n in neg_files:\n",
    "    neg = open(\"./dataset/imdb/test/neg/\"+n, 'r')\n",
    "    for line in neg:\n",
    "        if line:\n",
    "            line = line.replace('<br /><br />', ' ')\n",
    "            tokens = tokenizer.tokenize(line.lower())\n",
    "            tokens = [ (dictionary[t] if (t in dictionary) else dictionary['<unk>']) for t in tokens ] \n",
    "            \n",
    "            xtest.append(tokens)\n",
    "            ytest.append(0)\n",
    "                \n",
    "        else:\n",
    "            print(\"empty line: {}.\".format(line))\n",
    "    neg.close()"
   ]
  },
  {
   "cell_type": "code",
   "execution_count": 14,
   "metadata": {
    "collapsed": true
   },
   "outputs": [],
   "source": [
    "xtest = np.asarray(xtest)\n",
    "ytest = np.asarray(ytest)"
   ]
  },
  {
   "cell_type": "code",
   "execution_count": 15,
   "metadata": {
    "collapsed": true
   },
   "outputs": [],
   "source": [
    "np.save(\"./dataset/imdb/nltk_xtest.npy\", xtest)\n",
    "np.save(\"./dataset/imdb/nltk_ytest.npy\", ytest)"
   ]
  }
 ],
 "metadata": {
  "kernelspec": {
   "display_name": "Python 3",
   "language": "python",
   "name": "python3"
  },
  "language_info": {
   "codemirror_mode": {
    "name": "ipython",
    "version": 3
   },
   "file_extension": ".py",
   "mimetype": "text/x-python",
   "name": "python",
   "nbconvert_exporter": "python",
   "pygments_lexer": "ipython3",
   "version": "3.6.2"
  }
 },
 "nbformat": 4,
 "nbformat_minor": 2
}
